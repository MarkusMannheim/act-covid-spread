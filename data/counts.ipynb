{
 "cells": [
  {
   "cell_type": "code",
   "execution_count": 22,
   "id": "f90251de-998c-4d1e-97b8-8014abd8c1ce",
   "metadata": {},
   "outputs": [
    {
     "ename": "SyntaxError",
     "evalue": "closing parenthesis ')' does not match opening parenthesis '[' (<ipython-input-22-8cf4f157ca2a>, line 11)",
     "output_type": "error",
     "traceback": [
      "\u001b[1;36m  File \u001b[1;32m\"<ipython-input-22-8cf4f157ca2a>\"\u001b[1;36m, line \u001b[1;32m11\u001b[0m\n\u001b[1;33m    sites.at[date, \"close\"] = len((data[data[\"contact\"] != \"Monitor\") and (data[data[\"contact\"] != \"Casual\")])\u001b[0m\n\u001b[1;37m                                                                    ^\u001b[0m\n\u001b[1;31mSyntaxError\u001b[0m\u001b[1;31m:\u001b[0m closing parenthesis ')' does not match opening parenthesis '['\n"
     ]
    }
   ],
   "source": [
    "import pandas as pd\n",
    "\n",
    "results = pd.read_csv(\"results.csv\", parse_dates=[\"date\"])\n",
    "results.sort_values(\"date\", ascending=True, inplace=True)\n",
    "sites = pd.DataFrame(columns=[\"close\", \"casual\", \"monitor\"])\n",
    "sites.index.name = \"date\"\n",
    "for date in results[\"date\"].unique():\n",
    "    data = results[results[\"date\"] == date]\n",
    "    sites.at[date, \"casual\"] = len(data[data[\"contact\"] == \"Casual\"])\n",
    "    sites.at[date, \"monitor\"] = len(data[data[\"contact\"] == \"Monitor\"])\n",
    "    sites.at[date, \"close\"] = len((data[data[\"contact\"] != \"Monitor\") and (data[data[\"contact\"] != \"Casual\")]) )\n",
    "sites\n"
   ]
  }
 ],
 "metadata": {
  "kernelspec": {
   "display_name": "Python 3",
   "language": "python",
   "name": "python3"
  },
  "language_info": {
   "codemirror_mode": {
    "name": "ipython",
    "version": 3
   },
   "file_extension": ".py",
   "mimetype": "text/x-python",
   "name": "python",
   "nbconvert_exporter": "python",
   "pygments_lexer": "ipython3",
   "version": "3.9.0"
  }
 },
 "nbformat": 4,
 "nbformat_minor": 5
}
